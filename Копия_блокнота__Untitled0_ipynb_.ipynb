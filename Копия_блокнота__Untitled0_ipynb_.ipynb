{
  "nbformat": 4,
  "nbformat_minor": 0,
  "metadata": {
    "colab": {
      "provenance": []
    },
    "kernelspec": {
      "name": "python3",
      "display_name": "Python 3"
    },
    "language_info": {
      "name": "python"
    }
  },
  "cells": [
    {
      "cell_type": "code",
      "execution_count": null,
      "metadata": {
        "id": "FM8ws5csHWvD"
      },
      "outputs": [],
      "source": [
        "#https://www.codewars.com//kata/5a53a17bfd56cb9c14000003\n",
        "def disarium_number(number):\n",
        "    number = str(number)\n",
        "    result = 0\n",
        "    for i in range(len(number)):\n",
        "        result+=int(number[i])**(i+1)  \n",
        "    if result==int(number):\n",
        "        return 'Disarium !!'  \n",
        "    return 'Not !!'"
      ]
    },
    {
      "cell_type": "code",
      "source": [
        "#https://www.codewars.com//kata/57ed4cef7b45ef8774000014\n",
        "#The Office II - Boredom Score\n",
        "def boredom(staff):\n",
        "    my_dict = {'accounts': 1, 'finance' : 2, 'canteen' : 10, 'regulation': 3, 'trading': 6,\n",
        "             'change' : 6, 'IS' : 8,  'retail' : 5, 'cleaning' : 4, 'pissing about' : 25}\n",
        "    sum = 0\n",
        "    for k, v in staff.items():\n",
        "        print(v)\n",
        "        sum+=my_dict[v]\n",
        "    if sum<=80:\n",
        "        return 'kill me now'\n",
        "    elif sum<100:\n",
        "        return 'i can handle this'\n",
        "    return  'party time!!'"
      ],
      "metadata": {
        "id": "bx6uP4ovHpn1"
      },
      "execution_count": null,
      "outputs": []
    },
    {
      "cell_type": "code",
      "source": [
        "#https://www.codewars.com//kata/580a4734d6df748060000045\n",
        "#Sorted? yes? no? how?\n",
        "def is_sorted_and_how(arr):\n",
        "    if arr == sorted(arr):\n",
        "        return 'yes, ascending'\n",
        "    elif arr == sorted(arr, reverse = True):\n",
        "        return 'yes, descending'\n",
        "    return 'no'"
      ],
      "metadata": {
        "id": "jWkmFsYmH0ka"
      },
      "execution_count": null,
      "outputs": []
    },
    {
      "cell_type": "code",
      "source": [
        "#https://www.codewars.com//kata/55f4ad47ada1dd22f1000088\n",
        "#Simple Barcode Scanner\n",
        "def barcode_scanner(barcode):\n",
        "    m = barcode.find('01010')\n",
        "    while m+m+5 !=len(barcode):\n",
        "        m = barcode.find('01010', m+1)\n",
        "    dict_l =   {'0001101': 0,\n",
        "                '0011001': 1,\n",
        "                '0010011': 2,\n",
        "                '0111101': 3,\n",
        "                '0100011': 4,\n",
        "                '0110001': 5,   \n",
        "                '0101111': 6,\n",
        "                '0111011': 7,\n",
        "                '0110111': 8,\n",
        "                '0001011': 9\n",
        "        }\n",
        "\n",
        "    dict_r =   {'1110010': 0,\n",
        "                '1100110': 1,\n",
        "                '1101100': 2,\n",
        "                '1000010': 3,\n",
        "                '1011100': 4,\n",
        "                '1001110': 5,   \n",
        "                '1010000': 6,\n",
        "                '1000100': 7,\n",
        "                '1001000': 8,\n",
        "                '1110100': 9\n",
        "        }\n",
        "    s=''\n",
        "    for l in range(3, m, 7):\n",
        "        print(dict_l[barcode[l:l+7]])\n",
        "        s +=str(dict_l[barcode[l:l+7]])\n",
        "    for l in range(m+5, len(barcode)-3, 7):\n",
        "        s +=str(dict_r[barcode[l:l+7]])\n",
        "    return s\n",
        "    "
      ],
      "metadata": {
        "id": "I-3qn4R5IDXu"
      },
      "execution_count": null,
      "outputs": []
    },
    {
      "cell_type": "code",
      "source": [
        "#https://www.codewars.com//kata/58cda88814e65627c5000045\n",
        "#Write Number in Expanded Form - Part 2\n",
        "def expanded_form(num):\n",
        "    num = str(num).split('.')\n",
        "    s = ''\n",
        "    for i in range(len(num[0])):\n",
        "        if int(num[0][i]) == 0:\n",
        "            continue\n",
        "        temp = f'{int(num[0][i])*10**(len(num[0]) - i-1)}'\n",
        "        s+=temp\n",
        "        if i!=len(num[0])-1 and s[-1]!=' ':\n",
        "            s+=' + '\n",
        "    for i in range(len(num[1])):\n",
        "        if int(num[1][i]) == 0: continue\n",
        "        if s.split() and s[-1]!=' ': s+= ' + ' \n",
        "        temp = f'{num[1][i]}/{10**(i+1)}'\n",
        "        s+=temp\n",
        "        \n",
        "    return s"
      ],
      "metadata": {
        "id": "a8EA4GZ2IVG1"
      },
      "execution_count": null,
      "outputs": []
    },
    {
      "cell_type": "code",
      "source": [
        "#https://www.codewars.com//kata/569f6ad962ff1dd52f00000d\n",
        "#Selecting Quotients From an Array\n",
        "def sel_quot(arr, m, dir_str = None):\n",
        "    s = set()\n",
        "    arr = sorted(arr)\n",
        "    if dir_str: dir_str = dir_str.lower()\n",
        "\n",
        "    if dir_str=='even':\n",
        "        dir_str = 1\n",
        "    elif dir_str =='odd':\n",
        "        dir_str = 0 \n",
        "\n",
        "    for i in range(len(arr)):\n",
        "        for j in range(len(arr)):\n",
        "            if arr[i]//arr[j]>=m and arr[i]%arr[j]==0 and (arr[i]//arr[j])%2!=dir_str:\n",
        "                temp = (arr[i]//arr[j], (arr[i], arr[j]))\n",
        "                s.add(temp)\n",
        "    return sorted(list(s))"
      ],
      "metadata": {
        "id": "DorwICizIg6D"
      },
      "execution_count": null,
      "outputs": []
    },
    {
      "cell_type": "code",
      "source": [
        "#\n",
        "def find_max(first,*n):\n",
        "    return max((first,)+n)"
      ],
      "metadata": {
        "id": "FxPENLU8Im_g"
      },
      "execution_count": null,
      "outputs": []
    },
    {
      "cell_type": "code",
      "source": [
        "#https://leetcode.com/problems/palindrome-linked-list/\n",
        "# Definition for singly-linked list.\n",
        "# class ListNode:\n",
        "#     def __init__(self, val=0, next=None):\n",
        "#         self.val = val\n",
        "#         self.next = next\n",
        "class Solution:\n",
        "    def isPalindrome(self, head: Optional[ListNode]) -> bool:\n",
        "        turtle = head\n",
        "        list_value = list()\n",
        "        if not head.next:\n",
        "            return True\n",
        "        list_value.append(turtle.val)\n",
        "        while turtle.next:\n",
        "            turtle = turtle.next\n",
        "            list_value.append(turtle.val)\n",
        "\n",
        "        return list_value[::]==list_value[::-1]"
      ],
      "metadata": {
        "id": "uvPp655VI76t"
      },
      "execution_count": null,
      "outputs": []
    },
    {
      "cell_type": "code",
      "source": [
        "#https://leetcode.com/problems/middle-of-the-linked-list/\n",
        "class Solution:\n",
        "    def middleNode(self, head: Optional[ListNode]) -> Optional[ListNode]:\n",
        "        if not head.next:\n",
        "            return head\n",
        "        current = head\n",
        "        fast = head\n",
        "        while fast and fast.next:\n",
        "            current = current.next\n",
        "            fast = fast.next.next\n",
        "        return current"
      ],
      "metadata": {
        "id": "cI6gvGSgI_0M"
      },
      "execution_count": null,
      "outputs": []
    },
    {
      "cell_type": "code",
      "source": [
        "#https://leetcode.com/problems/remove-duplicates-from-sorted-list/\n",
        "# Definition for singly-linked list.\n",
        "# class ListNode:\n",
        "#     def __init__(self, val=0, next=None):\n",
        "#         self.val = val\n",
        "#         self.next = next\n",
        "class Solution:\n",
        "    def isPalindrome(self, head: Optional[ListNode]) -> bool:\n",
        "        turtle = head\n",
        "        list_value = list()\n",
        "        if not head.next:\n",
        "            return True\n",
        "        list_value.append(turtle.val)\n",
        "        while turtle.next:\n",
        "            turtle = turtle.next\n",
        "            list_value.append(turtle.val)\n",
        "\n",
        "        return list_value[::]==list_value[::-1]"
      ],
      "metadata": {
        "id": "yexFCYioJdtK"
      },
      "execution_count": null,
      "outputs": []
    }
  ]
}