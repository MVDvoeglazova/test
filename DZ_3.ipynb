{
  "nbformat": 4,
  "nbformat_minor": 0,
  "metadata": {
    "colab": {
      "provenance": []
    },
    "kernelspec": {
      "name": "python3",
      "display_name": "Python 3"
    },
    "language_info": {
      "name": "python"
    }
  },
  "cells": [
    {
      "cell_type": "markdown",
      "source": [
        "https://www.codewars.com/kata/55467aaf72494e3bdc00007f\n"
      ],
      "metadata": {
        "id": "VLdw6zty0MnK"
      }
    },
    {
      "cell_type": "code",
      "source": [
        "def is_rotation(s1,s2):\n",
        "    l2 = list()\n",
        "    flag = True\n",
        "    print(s1, s2)\n",
        "    if len(s1)!=len(s2):\n",
        "        return False\n",
        "    elif not s1 and not s2:\n",
        "        return flag\n",
        "    if s1[0] in s2:\n",
        "        for i in range(len(s2)):\n",
        "            if s1[0]==s2[i]:\n",
        "                l2.append(i)\n",
        "        for i2 in l2:\n",
        "            flag = True\n",
        "            l1 = 0\n",
        "            for i in range(i2, len(s2)):\n",
        "                if s1[l1]!=s2[i]:\n",
        "                    flag = False\n",
        "                    continue\n",
        "                l1+=1\n",
        "\n",
        "            for i in range(0, i2):\n",
        "                if s1[l1]!=s2[i]:\n",
        "                    flag = False\n",
        "                    continue\n",
        "                l1+=1\n",
        "            \n",
        "    return flag"
      ],
      "metadata": {
        "id": "s9E229dI0QXu"
      },
      "execution_count": null,
      "outputs": []
    },
    {
      "cell_type": "markdown",
      "source": [
        "https://www.codewars.com/kata/54e6533c92449cc251001667"
      ],
      "metadata": {
        "id": "WrvBxX-q0eor"
      }
    },
    {
      "cell_type": "code",
      "source": [
        "def unique_in_order(s):\n",
        "    print(s)\n",
        "    if len(s)<2:\n",
        "        return list(s)\n",
        "    slow = 0\n",
        "    out_list = list()\n",
        "    out_list.append(s[0])\n",
        "    for fast in range(1, len(s)):\n",
        "        if s[slow]==s[fast]:\n",
        "            slow+=1\n",
        "            continue\n",
        "        out_list.append(s[fast])\n",
        "        slow+=1\n",
        "        \n",
        "    return out_list"
      ],
      "metadata": {
        "id": "UqgHi_sM0hoD"
      },
      "execution_count": 1,
      "outputs": []
    },
    {
      "cell_type": "markdown",
      "source": [
        "https://www.codewars.com/kata/517abf86da9663f1d2000003"
      ],
      "metadata": {
        "id": "XwSsazgH3EOg"
      }
    },
    {
      "cell_type": "code",
      "source": [],
      "metadata": {
        "id": "E_PCnYto3ANL"
      },
      "execution_count": null,
      "outputs": []
    },
    {
      "cell_type": "markdown",
      "source": [
        "https://leetcode.com/problems/reverse-string/"
      ],
      "metadata": {
        "id": "kNTJ8T1D2SZN"
      }
    },
    {
      "cell_type": "code",
      "source": [
        "class Solution:\n",
        "    def reverseString(self, s: List[str]) -> None:\n",
        "        \"\"\"\n",
        "        Do not return anything, modify s in-place instead.\n",
        "        \"\"\"\n",
        "        l, r = 0, len(s)-1\n",
        "        while l<r:\n",
        "            s[l], s[r] = s[r], s[l] \n",
        "            l+=1\n",
        "            r-=1\n",
        "        return s"
      ],
      "metadata": {
        "id": "_JeywXBf2S46"
      },
      "execution_count": null,
      "outputs": []
    },
    {
      "cell_type": "markdown",
      "source": [
        "https://leetcode.com/problems/remove-duplicates-from-sorted-array-ii/"
      ],
      "metadata": {
        "id": "SA5nMgi52fjq"
      }
    },
    {
      "cell_type": "code",
      "source": [
        "class Solution:\n",
        "    def removeDuplicates(self, nums: List[int]) -> int:\n",
        "        first = 0\n",
        "        flag = False\n",
        "\n",
        "        for second in range(1, len(nums)):\n",
        "            if nums[second] == nums[first] and flag == False:\n",
        "                first+=1\n",
        "                nums[first] = nums[second]\n",
        "                flag = True\n",
        "\n",
        "            elif nums[second] > nums[first] and flag == False:\n",
        "                first+=1\n",
        "                nums[first] = nums[second]\n",
        "                \n",
        "\n",
        "            elif nums[second]>nums[first] and flag==True:\n",
        "                first+=1\n",
        "                nums[first] = nums[second]\n",
        "                flag = False\n",
        "\n",
        "               \n",
        "        return first+1"
      ],
      "metadata": {
        "id": "MGk1fY7T2dCY"
      },
      "execution_count": null,
      "outputs": []
    },
    {
      "cell_type": "markdown",
      "source": [
        "https://leetcode.com/problems/move-zeroes/"
      ],
      "metadata": {
        "id": "9mlqKR0CKquX"
      }
    },
    {
      "cell_type": "code",
      "source": [
        "class Solution:\n",
        "    def moveZeroes(self, nums: List[int]) -> None:\n",
        "        \"\"\"\n",
        "        Do not return anything, modify nums in-place instead.\n",
        "        \"\"\"\n",
        "        if not nums or 0 not in nums:\n",
        "            return nums\n",
        "        n = -1\n",
        "        d = -1\n",
        "        for i in range(len(nums)):\n",
        "            print(nums)\n",
        "            if nums[i]==0 and n<0:\n",
        "                n = i\n",
        "                if d<0:\n",
        "                    continue\n",
        "            elif nums[i]!=0 and d<0:\n",
        "                d = i\n",
        "                if n<0:\n",
        "                    continue\n",
        "            elif n<0 or d<0:\n",
        "                continue\n",
        "        \n",
        "            if n<d:\n",
        "                nums[d],  nums[n] =  nums[n],  nums[d]\n",
        "                n, d = n+1, n\n",
        "                \n",
        "\n",
        "            if nums[i]!=0:\n",
        "                nums[i], nums[n] = nums[n], nums[i] \n",
        "                n+=1\n",
        "                d+=1\n",
        "                \n",
        "        return nums"
      ],
      "metadata": {
        "id": "LXT77mUQKoiI"
      },
      "execution_count": null,
      "outputs": []
    },
    {
      "cell_type": "markdown",
      "source": [
        "https://leetcode.com/problems/merge-sorted-array/\n"
      ],
      "metadata": {
        "id": "5eYgOd8OgUzU"
      }
    },
    {
      "cell_type": "code",
      "source": [],
      "metadata": {
        "id": "ws1ZHbrwgc_1"
      },
      "execution_count": null,
      "outputs": []
    },
    {
      "cell_type": "markdown",
      "source": [
        "https://leetcode.com/problems/valid-palindrome/"
      ],
      "metadata": {
        "id": "feXxid22jjeC"
      }
    },
    {
      "cell_type": "code",
      "source": [
        "def ispolindr(s):\n",
        "     l, r = 0, len(s)-1\n",
        "\n",
        "     while l<r:\n",
        "         if s[l] ==' ':\n",
        "             l+=1\n",
        "             continue\n",
        "         if s[r] ==' ':\n",
        "             r-=1\n",
        "             continue \n",
        "         if s[r]!=s[l]:\n",
        "             return False\n",
        "         else:\n",
        "             l+=1\n",
        "             r-=1\n",
        "     return True\n"
      ],
      "metadata": {
        "id": "2UqEEg7jjj5N"
      },
      "execution_count": null,
      "outputs": []
    },
    {
      "cell_type": "markdown",
      "source": [
        "https://leetcode.com/problems/remove-duplicates-from-sorted-array/"
      ],
      "metadata": {
        "id": "2dRvp-Bpj1Eq"
      }
    },
    {
      "cell_type": "code",
      "source": [
        "class Solution:\n",
        "    def removeDuplicates(self, nums: List[int]) -> int:\n",
        "        l = 0\n",
        "        for r in range(1, len(nums)):\n",
        "            if nums[l]<nums[r]:\n",
        "                l+=1\n",
        "                nums[l]=nums[r]\n",
        "        return l+1"
      ],
      "metadata": {
        "id": "WGnuLi7sj1VH"
      },
      "execution_count": null,
      "outputs": []
    },
    {
      "cell_type": "markdown",
      "source": [
        "https://leetcode.com/problems/valid-palindrome-ii/"
      ],
      "metadata": {
        "id": "RA3hNZvhj_b6"
      }
    },
    {
      "cell_type": "code",
      "source": [
        "def ispolindr(s):\n",
        "     l, r = 0, len(s)-1\n",
        "\n",
        "     while l<r:\n",
        "         if s[l] ==' ':\n",
        "             l+=1\n",
        "             continue\n",
        "         if s[r] ==' ':\n",
        "             r-=1\n",
        "             continue \n",
        "         if s[r]!=s[l]:\n",
        "             return False\n",
        "         else:\n",
        "             l+=1\n",
        "             r-=1\n",
        "     return True\n",
        "\n",
        "def ispolindr_2(s):\n",
        "     l, r = 0, len(s)-1\n",
        "     while l<r:\n",
        "        if s[r]!=s[l]:\n",
        "            return ispolindr(s[l:r]) or ispolindr(s[l+1:r+1])         \n",
        "        else:\n",
        "             l+=1\n",
        "             r-=1\n",
        "\n",
        "     return True"
      ],
      "metadata": {
        "id": "S3ktQFwTj_zG"
      },
      "execution_count": null,
      "outputs": []
    }
  ]
}