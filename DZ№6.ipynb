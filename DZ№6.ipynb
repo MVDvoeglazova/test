{
  "nbformat": 4,
  "nbformat_minor": 0,
  "metadata": {
    "colab": {
      "provenance": []
    },
    "kernelspec": {
      "name": "python3",
      "display_name": "Python 3"
    },
    "language_info": {
      "name": "python"
    }
  },
  "cells": [
    {
      "cell_type": "markdown",
      "source": [
        "### Двусвязанный список"
      ],
      "metadata": {
        "id": "0PQW3Fwfj6u1"
      }
    },
    {
      "cell_type": "code",
      "source": [
        "class DLNode:\n",
        "  def __init__(self, val, prev=None, next=None):\n",
        "    self.val = val\n",
        "    self.next = next\n",
        "    self.prev = prev"
      ],
      "metadata": {
        "id": "IjKjWvLSkA4B"
      },
      "execution_count": null,
      "outputs": []
    },
    {
      "cell_type": "markdown",
      "source": [],
      "metadata": {
        "id": "tBIi0oPlj9-i"
      }
    },
    {
      "cell_type": "code",
      "source": [
        "def create_doubly_linked_list(data):\n",
        "  head = None\n",
        "  if data:\n",
        "    head =  DLNode(data[0])\n",
        "    current = head \n",
        "    for item in data[1:]:\n",
        "        prev = current\n",
        "        current.next = DLNode(item, prev)\n",
        "        current = current.next\n",
        "  return head\n"
      ],
      "metadata": {
        "id": "gGQmRgDU1EHm"
      },
      "execution_count": null,
      "outputs": []
    },
    {
      "cell_type": "code",
      "source": [
        "def get_values_from_doubly_linked_list(head):\n",
        "    result = []\n",
        "    while head:\n",
        "        result.append(head.val)\n",
        "        head = head.next\n",
        "\n",
        "    return result\n"
      ],
      "metadata": {
        "id": "XmWee_GQ2cmU"
      },
      "execution_count": null,
      "outputs": []
    },
    {
      "cell_type": "code",
      "source": [
        "def remove_node(head: DLNode, nodenum: int) -> DLNode:\n",
        "    current = head\n",
        "    for node in range(nodenum):\n",
        "        current = current.next\n",
        "    if current.prev and current.next:\n",
        "      current = current.prev\n",
        "      current.next = current.next.next\n",
        "      current = current.next\n",
        "      current.prev = current.prev.prev\n",
        "    elif current.next:\n",
        "      head = current.next\n",
        "      current.next.prev = None\n",
        "      current.next = current.next.next\n",
        "    elif current.prev:\n",
        "      current.prev.next = None\n",
        "      current.prev = current.prev.prev\n",
        "\n",
        "    return head"
      ],
      "metadata": {
        "id": "QH_6eeUP2h7y"
      },
      "execution_count": null,
      "outputs": []
    },
    {
      "cell_type": "code",
      "source": [
        "def add_node(head: DLNode, nodenum: int) -> DLNode:\n",
        "    #нод, который нужно добавить не должен передаваться в функцию?\n",
        "    node = DLNode(12321)\n",
        "    current = head\n",
        "    for num in range(nodenum):\n",
        "      current = current.next \n",
        "    current.next = node\n",
        "    \n"
      ],
      "metadata": {
        "id": "2a1AqS22xzqE"
      },
      "execution_count": null,
      "outputs": []
    },
    {
      "cell_type": "code",
      "source": [
        "\n",
        "head = create_doubly_linked_list([1, 2, 3, 4, 5, 6, 7])\n",
        "head  = remove_node(head,6)\n",
        "print(head.val) \n",
        "while head.next:\n",
        "  head = head.next\n",
        "  print(head.val)\n",
        "print('---')\n",
        "print(head.val)\n",
        "head = head.prev\n",
        "while head.prev:\n",
        "  head = head.prev\n",
        "  print(head.val)"
      ],
      "metadata": {
        "id": "sYvJIjSp2sxe",
        "colab": {
          "base_uri": "https://localhost:8080/"
        },
        "outputId": "b9977b96-bcb8-45fe-b1b7-1493d9dbdf16"
      },
      "execution_count": null,
      "outputs": [
        {
          "output_type": "stream",
          "name": "stdout",
          "text": [
            "1\n",
            "2\n",
            "3\n",
            "4\n",
            "5\n",
            "6\n",
            "---\n",
            "6\n",
            "4\n",
            "3\n",
            "2\n",
            "1\n"
          ]
        }
      ]
    },
    {
      "cell_type": "markdown",
      "source": [
        "[Valid Parentheses](https://leetcode.com/problems/valid-parentheses/)"
      ],
      "metadata": {
        "id": "tyW9NBuzSs33"
      }
    },
    {
      "cell_type": "code",
      "source": [
        "class Solution:\n",
        "    def isValid(self, s: str) -> bool:\n",
        "        if not s:\n",
        "            return True\n",
        "        stack = []\n",
        "        data = {\n",
        "            '{':'}',\n",
        "            '[': ']',\n",
        "            '(':')'\n",
        "        }\n",
        "        for it in s:\n",
        "            if it in data:\n",
        "                stack.append(it)\n",
        "            else:\n",
        "                if (not stack and it) or (stack and data[stack.pop()]!=it):\n",
        "                    return False\n",
        "                \n",
        "\n",
        "        if not stack:\n",
        "            return True\n",
        "\n",
        "        return False"
      ],
      "metadata": {
        "id": "XTqB49IyPrPO"
      },
      "execution_count": null,
      "outputs": []
    },
    {
      "cell_type": "markdown",
      "source": [
        "[1614. Maximum Nesting Depth of the Parentheses](https://leetcode.com/problems/maximum-nesting-depth-of-the-parentheses/)"
      ],
      "metadata": {
        "id": "gbPEy1HTTYsu"
      }
    },
    {
      "cell_type": "code",
      "source": [
        "\n",
        "class Solution:\n",
        "    def maxDepth(self, s: str) -> int:\n",
        "\n",
        "        data = {\n",
        "            '(': ')',\n",
        "        }\n",
        "        len_stack = 0\n",
        "        max_len_stack = 0\n",
        "        for item in s:\n",
        "\n",
        "            if item in data:\n",
        "                len_stack+=1\n",
        "                if max_len_stack < l:\n",
        "                    max_len_stack = l\n",
        "            elif item ==')':\n",
        "                len_stack-=1\n",
        "                    \n",
        "        return max_len_stack "
      ],
      "metadata": {
        "id": "HklIqgOMTZCo"
      },
      "execution_count": null,
      "outputs": []
    },
    {
      "cell_type": "markdown",
      "source": [
        "[155. Min Stack](https://leetcode.com/problems/min-stack/)"
      ],
      "metadata": {
        "id": "25bI0-3aWCob"
      }
    },
    {
      "cell_type": "code",
      "source": [
        "class MinStack:\n",
        "\n",
        "    def __init__(self):\n",
        "        self.stack = []\n",
        "        self.min_element = []\n",
        "\n",
        "    def push(self, val: int) -> None:\n",
        "        self.stack.append(val)\n",
        "        if not self.min_element:\n",
        "            self.min_element.append(val)\n",
        "        elif self.min_element[-1] >= val:\n",
        "            self.min_element.append(val)\n",
        "        elif val in self.min_element:\n",
        "            self.min_element.insert(self.min_element.index(val), val)\n",
        "\n",
        "\n",
        "    def pop(self) -> None:\n",
        "        pop_element = self.stack.pop()\n",
        "        if pop_element in self.min_element:\n",
        "            self.min_element.remove(pop_element)\n",
        "        return pop_element\n",
        "\n",
        "    def top(self) -> int:\n",
        "        if self.stack:\n",
        "            return self.stack[-1]\n",
        "        \n",
        "    def getMin(self) -> int:\n",
        "        if self.min_element:\n",
        "            return self.min_element[-1]\n",
        "  \n",
        "\n",
        "\n",
        "\n",
        "\n",
        "# Your MinStack object will be instantiated and called as such:\n",
        "# obj = MinStack()\n",
        "# obj.push(val)\n",
        "# obj.pop()\n",
        "# param_3 = obj.top()\n",
        "# param_4 = obj.getMin()"
      ],
      "metadata": {
        "id": "FHSpWhk7WDCw"
      },
      "execution_count": null,
      "outputs": []
    },
    {
      "cell_type": "markdown",
      "source": [
        "[1021. Remove Outermost Parentheses](https://leetcode.com/problems/remove-outermost-parentheses/)"
      ],
      "metadata": {
        "id": "jZ8cEF6aWcKv"
      }
    },
    {
      "cell_type": "code",
      "source": [
        "class Solution:\n",
        "    def removeOuterParentheses(self, s: str) -> str:\n",
        "        data = {\n",
        "            '(': ')',\n",
        "        }\n",
        "    \n",
        "        str_out = ''\n",
        "        len_str = 0\n",
        "        for item in s[1:]:\n",
        "\n",
        "            \n",
        "            if item in data:\n",
        "                len_str+=1\n",
        "                if len_str>0:\n",
        "                    str_out+=item\n",
        "                \n",
        "                \n",
        "            elif item ==')':\n",
        "                if len_str>0:\n",
        "                    str_out+=item\n",
        "                len_str-=1\n",
        " "
      ],
      "metadata": {
        "id": "3ismeXZyWclf"
      },
      "execution_count": null,
      "outputs": []
    },
    {
      "cell_type": "markdown",
      "source": [
        "[1047. Remove All Adjacent Duplicates In String](https://leetcode.com/problems/remove-all-adjacent-duplicates-in-string/)"
      ],
      "metadata": {
        "id": "VS4ClAEQc7SN"
      }
    },
    {
      "cell_type": "code",
      "source": [
        "class Solution:\n",
        "    def removeDuplicates(self, s: str) -> str:\n",
        "        stack = []\n",
        "        for item in s:\n",
        "            if not stack or (stack and item != stack[-1]):\n",
        "                stack.append(item)\n",
        "            else:\n",
        "                stack.pop()\n",
        "\n",
        "        return ''.join(stack)"
      ],
      "metadata": {
        "id": "NQBcp8B3c7a_"
      },
      "execution_count": null,
      "outputs": []
    },
    {
      "cell_type": "markdown",
      "source": [
        "1544. Make The String Great"
      ],
      "metadata": {
        "id": "tc0mDfMzjebr"
      }
    },
    {
      "cell_type": "code",
      "source": [
        "class Solution:\n",
        "    def makeGood(self, s: str) -> str:\n",
        "        stack = []\n",
        "\n",
        "        for item in s:\n",
        "            if not(stack) or item.islower():\n",
        "                stack.append(item)\n",
        "            elif item.lower()==stack[-1]:\n",
        "                stack.pop()\n",
        "            \n",
        "        return ''.join(stack)"
      ],
      "metadata": {
        "id": "0vTcY-mHjev3"
      },
      "execution_count": null,
      "outputs": []
    },
    {
      "cell_type": "markdown",
      "source": [
        "будет готово к вечеру субботы"
      ],
      "metadata": {
        "id": "uzv0tvcajl1D"
      }
    }
  ]
}