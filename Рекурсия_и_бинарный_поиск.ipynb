{
  "nbformat": 4,
  "nbformat_minor": 0,
  "metadata": {
    "colab": {
      "provenance": []
    },
    "kernelspec": {
      "name": "python3",
      "display_name": "Python 3"
    },
    "language_info": {
      "name": "python"
    }
  },
  "cells": [
    {
      "cell_type": "markdown",
      "source": [
        "### Рекурсия и бинарный поиск"
      ],
      "metadata": {
        "id": "RmOOn6124Ivg"
      }
    },
    {
      "cell_type": "markdown",
      "source": [
        "[509. Fibonacci Number](https://leetcode.com/problems/fibonacci-number/)"
      ],
      "metadata": {
        "id": "zqKh9Dsi4ZDx"
      }
    },
    {
      "cell_type": "code",
      "source": [
        "class Solution:\n",
        "    def fib(self, n: int) -> int:\n",
        "        if n==0:\n",
        "            return 0\n",
        "        if 1<=n<=2:\n",
        "            return 1\n",
        "        return self.fib(n-1)+self.fib(n-2)"
      ],
      "metadata": {
        "id": "naAlygJv4s8V"
      },
      "execution_count": null,
      "outputs": []
    },
    {
      "cell_type": "markdown",
      "source": [
        "[326. Power of Three](https://leetcode.com/problems/power-of-three/)"
      ],
      "metadata": {
        "id": "e7j3wY874zQq"
      }
    },
    {
      "cell_type": "code",
      "source": [
        "class Solution:\n",
        "    def isPowerOfThree(self, n: int) -> bool:\n",
        "\n",
        "        if not n:\n",
        "            return False\n",
        "\n",
        "        if n==1:\n",
        "            return True\n",
        "\n",
        "        if n % 3 == 0:\n",
        "            return self.isPowerOfThree(n//3)\n",
        "        else:\n",
        "            return False\n"
      ],
      "metadata": {
        "id": "kBA1ZDFf4ziW"
      },
      "execution_count": null,
      "outputs": []
    },
    {
      "cell_type": "markdown",
      "source": [
        "[344. Reverse String](https://leetcode.com/problems/reverse-string/)"
      ],
      "metadata": {
        "id": "_5g17Kz39l88"
      }
    },
    {
      "cell_type": "code",
      "source": [
        "def reverseString(s: str) -> None:\n",
        "        \"\"\"\n",
        "        Do not return anything, modify s in-place instead.\n",
        "        \"\"\"\n",
        "        if not s:\n",
        "            return s\n",
        "\n",
        "        return [s[-1]] + reverseString(s[:-1])"
      ],
      "metadata": {
        "id": "dU4EXu7p6vuc"
      },
      "execution_count": null,
      "outputs": []
    },
    {
      "cell_type": "code",
      "source": [
        "reverseString([\"h\",\"e\",\"l\",\"l\",\"o\"])"
      ],
      "metadata": {
        "colab": {
          "base_uri": "https://localhost:8080/"
        },
        "id": "1Xvgb-qZ62qv",
        "outputId": "9ccf1fc0-0771-4309-b14f-6465aedc1d4a"
      },
      "execution_count": null,
      "outputs": [
        {
          "output_type": "execute_result",
          "data": {
            "text/plain": [
              "['o', 'l', 'l', 'e', 'h']"
            ]
          },
          "metadata": {},
          "execution_count": 31
        }
      ]
    },
    {
      "cell_type": "markdown",
      "source": [
        "[704. Binary Search](https://leetcode.com/problems/binary-search/)"
      ],
      "metadata": {
        "id": "3o3IAgh7Hx0l"
      }
    },
    {
      "cell_type": "code",
      "source": [
        "def search(data: list[int], num: int, left = 0, right = -1) -> int:\n",
        "  if right == -1:\n",
        "    right = len(data)\n",
        "  mid = left + (right-left)//2\n",
        "\n",
        "  if data[mid] == num:\n",
        "    return mid\n",
        "  if left==right:\n",
        "    return -1\n",
        "\n",
        "  if data[mid] > num:\n",
        "\n",
        "    return search(data, num, left, mid-1)\n",
        "  else:\n",
        "    return search(data, num, mid+1, right)\n"
      ],
      "metadata": {
        "id": "GibJek_kH3lY"
      },
      "execution_count": null,
      "outputs": []
    },
    {
      "cell_type": "code",
      "source": [
        "data = [-1,0,3,5,9,12]\n",
        "print(search(data, 12))\n",
        "print(search(data, 2))"
      ],
      "metadata": {
        "colab": {
          "base_uri": "https://localhost:8080/"
        },
        "id": "SpBNijL6KQy6",
        "outputId": "80a43207-c01d-4f95-f9ff-aaeaff7bd4f7"
      },
      "execution_count": null,
      "outputs": [
        {
          "output_type": "stream",
          "name": "stdout",
          "text": [
            "5\n",
            "-1\n"
          ]
        }
      ]
    },
    {
      "cell_type": "markdown",
      "source": [
        "[278. First Bad Version](https://leetcode.com/problems/first-bad-version/)"
      ],
      "metadata": {
        "id": "uuY0yFe3OMTl"
      }
    },
    {
      "cell_type": "code",
      "source": [
        "def firstBadVersion(n: int) -> int:\n",
        "        if not isBadVersion(n-1) and isBadVersion(n):\n",
        "            return n\n",
        "        if isBadVersion(n):\n",
        "            return firstBadVersion(n-n//2)\n",
        "        else:\n",
        "            return firstBadVersion(n+n//2)"
      ],
      "metadata": {
        "id": "5OQJaywgKlCK"
      },
      "execution_count": null,
      "outputs": []
    },
    {
      "cell_type": "code",
      "source": [
        "def isBadVersion(n):\n",
        "  if n>=1702766719:\n",
        "    return True\n",
        "  return False"
      ],
      "metadata": {
        "id": "mDKNJfV4R2NP"
      },
      "execution_count": null,
      "outputs": []
    },
    {
      "cell_type": "code",
      "source": [
        "firstBadVersion(2126753390)"
      ],
      "metadata": {
        "id": "2x_KbTDvSGAt"
      },
      "execution_count": null,
      "outputs": []
    },
    {
      "cell_type": "code",
      "source": [
        "def peakIndexInMountainArray(arr: list[int], left = 0, right = -1) -> int:\n",
        "  if right == -1:\n",
        "      right = len(arr)\n",
        "  \n",
        "  mid = left + (right-left)//2\n",
        "  if arr[mid-1] < arr[mid] and arr[mid] > arr[mid+1]:\n",
        "    print(mid) \n",
        "    return mid\n",
        "  elif arr[mid-1] < arr[mid]:\n",
        "    return peakIndexInMountainArray(arr, mid+1, right)\n",
        "  else:\n",
        "    return peakIndexInMountainArray(arr, left, mid-1)\n",
        "\n",
        "  \n",
        "  "
      ],
      "metadata": {
        "id": "eazF-H_VSOGe"
      },
      "execution_count": null,
      "outputs": []
    },
    {
      "cell_type": "code",
      "source": [
        "data = [0, 1, 2,0]\n",
        "peakIndexInMountainArray(data)"
      ],
      "metadata": {
        "colab": {
          "base_uri": "https://localhost:8080/"
        },
        "id": "Vx_mmPrUa85O",
        "outputId": "8d8bd2c8-e911-482e-f98b-917acceb91cb"
      },
      "execution_count": null,
      "outputs": [
        {
          "output_type": "stream",
          "name": "stdout",
          "text": [
            "2\n"
          ]
        },
        {
          "output_type": "execute_result",
          "data": {
            "text/plain": [
              "2"
            ]
          },
          "metadata": {},
          "execution_count": 2
        }
      ]
    },
    {
      "cell_type": "markdown",
      "source": [
        "[162. Find Peak Element](https://leetcode.com/problems/find-peak-element/)"
      ],
      "metadata": {
        "id": "16PjhKfbl5HX"
      }
    },
    {
      "cell_type": "code",
      "source": [
        "class Solution:\n",
        "    def findPeakElement(self, arr: list[int], left = 0, right = -1) -> int:\n",
        "        if right == -1:\n",
        "            right = len(arr)\n",
        "            if len(arr)<3:\n",
        "                maximum = (arr[0],0)\n",
        "                for i in range(len(arr)):\n",
        "                    if maximum[0] < arr[i]:\n",
        "                        maximum = (arr[i], i) \n",
        "                return maximum[1]\n",
        "\n",
        "        \n",
        "        mid = left + (right-left)//2\n",
        "        if (mid==0 or arr[mid-1] < arr[mid]) and (mid==len(arr)-1 or arr[mid] > arr[mid+1]):\n",
        "            print(mid) \n",
        "            return mid\n",
        "        elif arr[mid-1] < arr[mid]:\n",
        "            return self.findPeakElement(arr, mid+1, right)\n",
        "        else:\n",
        "            return self.findPeakElement(arr, left, mid)"
      ],
      "metadata": {
        "id": "w54xcUDrb9oc"
      },
      "execution_count": null,
      "outputs": []
    },
    {
      "cell_type": "markdown",
      "source": [
        "[74. Search a 2D Matrix](https://leetcode.com/problems/search-a-2d-matrix/)"
      ],
      "metadata": {
        "id": "Hgk-aWT_mMS5"
      }
    },
    {
      "cell_type": "code",
      "source": [
        "matrix = [[1],[3]]\n",
        "target = 3\n",
        "def search(data: list[int], num: int, left = 0, right = -1) -> int:\n",
        "        if right == -1:\n",
        "            right = len(data)-1\n",
        "        mid = left + (right-left)//2\n",
        "        if data[mid] == num:\n",
        "            return True\n",
        "        if left==right:\n",
        "            return False\n",
        "\n",
        "        if data[mid] > num:\n",
        "\n",
        "            return search(data, num, left, mid-1)\n",
        "        else:\n",
        "            return search(data, num, mid+1, right)\n",
        "\n",
        "def searchMatrix(matrix, target: int, left = 0, right = -1) -> bool:\n",
        "        if matrix[0][0] > target or matrix[-1][-1] < target:\n",
        "            return False\n",
        "\n",
        "        if right == -1:\n",
        "            right = len(matrix) - 1\n",
        "        mid = left + (right+left)//2 - 1\n",
        "        if right == left:\n",
        "            return search(matrix[left], target)\n",
        "\n",
        "        if (mid!=0 and matrix[mid][0] < target and matrix[mid-1][-1] > target):\n",
        "            return False\n",
        "\n",
        "        elif matrix[mid][0] > target:\n",
        "            return searchMatrix(matrix, target, left, mid-1)\n",
        "\n",
        "        elif matrix[mid][-1] < target:\n",
        "            return searchMatrix(matrix, target, mid+1, right)\n",
        "\n",
        "        elif matrix[mid][0] <= target and matrix[mid][-1] >= target:\n",
        "            return search(matrix[mid], target)\n",
        "    \n",
        "    \n",
        "searchMatrix(matrix, target)"
      ],
      "metadata": {
        "id": "Y_Vr6U0Ic6yu",
        "colab": {
          "base_uri": "https://localhost:8080/"
        },
        "outputId": "76d05ff1-0eed-411b-bb67-fe91fe16bc10"
      },
      "execution_count": null,
      "outputs": [
        {
          "output_type": "execute_result",
          "data": {
            "text/plain": [
              "True"
            ]
          },
          "metadata": {},
          "execution_count": 34
        }
      ]
    },
    {
      "cell_type": "markdown",
      "source": [
        "https://leetcode.com/problems/koko-eating-bananas/submissions/935682390/"
      ],
      "metadata": {
        "id": "klw_hA1WU1GR"
      }
    },
    {
      "cell_type": "code",
      "source": [
        "\n",
        "def minEatingSpeed(piles: list[int], h: int) -> int:\n",
        "        count = 0\n",
        "\n",
        "        if min(piles) - h > 0:\n",
        "          for element in piles:\n",
        "            count += element//h + bool(element%h)\n",
        "            return count\n",
        "        \n",
        "        x = 1\n",
        "        while count != h:\n",
        "          x += 1\n",
        "          count = 0\n",
        "          for element in piles:\n",
        "            count += element//x + bool(element%x)\n",
        "        return x\n",
        "              \n",
        "  "
      ],
      "metadata": {
        "id": "DK845I5qU2L-"
      },
      "execution_count": null,
      "outputs": []
    },
    {
      "cell_type": "code",
      "source": [
        "def minEatingSpeed(piles: list[int], h: int) -> int:\n",
        "        count = 0\n",
        "        for element in piles:\n",
        "            temp = element\n",
        "            while temp > 0:\n",
        "                temp = temp - x\n",
        "                count += 1\n",
        "        if count == h:\n",
        "            return x\n",
        "        else:\n",
        "            return self.minEatingSpeed(piles, h, x+1)"
      ],
      "metadata": {
        "id": "6siFz073U8QD"
      },
      "execution_count": null,
      "outputs": []
    },
    {
      "cell_type": "code",
      "source": [],
      "metadata": {
        "id": "dDmSWbh-VXP_"
      },
      "execution_count": null,
      "outputs": []
    }
  ]
}