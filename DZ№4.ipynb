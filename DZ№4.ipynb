{
  "nbformat": 4,
  "nbformat_minor": 0,
  "metadata": {
    "colab": {
      "provenance": []
    },
    "kernelspec": {
      "name": "python3",
      "display_name": "Python 3"
    },
    "language_info": {
      "name": "python"
    }
  },
  "cells": [
    {
      "cell_type": "markdown",
      "source": [
        "## **Односвязаный список** \n",
        "\n"
      ],
      "metadata": {
        "id": "7gWSn3Z-BLjU"
      }
    },
    {
      "cell_type": "markdown",
      "source": [
        "\n",
        "[Merge Two Sorted Lists](https://leetcode.com/problems/merge-two-sorted-lists/)"
      ],
      "metadata": {
        "id": "hsWSmMZKBYnM"
      }
    },
    {
      "cell_type": "code",
      "source": [
        "# Definition for singly-linked list.\n",
        "# class ListNode:\n",
        "#     def __init__(self, val=0, next=None):\n",
        "#         self.val = val\n",
        "#         self.next = next\n",
        "class Solution:\n",
        "    def mergeTwoLists(self, list1: Optional[ListNode], list2: Optional[ListNode]) -> Optional[ListNode]:\n",
        "        temp1 = list1\n",
        "        temp2 = list2\n",
        "\n",
        "        temp = ListNode(0)\n",
        "        head = temp\n",
        "\n",
        "        while temp1 and temp2:\n",
        "            if temp1.val < temp2.val:\n",
        "                temp.next = temp1\n",
        "                temp1 = temp1.next\n",
        "                temp = temp.next\n",
        "            else:\n",
        "                temp.next = temp2\n",
        "                temp2 = temp2.next\n",
        "                temp = temp.next\n",
        "        \n",
        "        while temp1:\n",
        "            temp.next = temp1\n",
        "            temp1 = temp1.next\n",
        "            temp = temp.next\n",
        "\n",
        "        while temp2:\n",
        "            temp.next = temp2\n",
        "            temp2 = temp2.next\n",
        "            temp = temp.next\n",
        "        return head.next"
      ],
      "metadata": {
        "id": "p6aLz5QgBU1X"
      },
      "execution_count": null,
      "outputs": []
    },
    {
      "cell_type": "markdown",
      "source": [
        "[Reverse Linked List](https://leetcode.com/problems/reverse-linked-list/)"
      ],
      "metadata": {
        "id": "zM7KkOsfB7vi"
      }
    },
    {
      "cell_type": "code",
      "source": [
        "# Definition for singly-linked list.\n",
        "# class ListNode:\n",
        "#     def __init__(self, val=0, next=None):\n",
        "#         self.val = val\n",
        "#         self.next = next\n",
        "class Solution:\n",
        "    def reverseList(self, head: Optional[ListNode]) -> Optional[ListNode]:\n",
        "        \n",
        "        prev = None\n",
        "        temp = head\n",
        "\n",
        "        while temp:\n",
        "            nxt = temp.next\n",
        "            temp.next = prev\n",
        "            prev = temp\n",
        "            temp = nxt\n",
        "        return prev"
      ],
      "metadata": {
        "id": "8ruNYaHCB33f"
      },
      "execution_count": null,
      "outputs": []
    },
    {
      "cell_type": "markdown",
      "source": [
        "[Convert Binary Number in a Linked List to Integer](https://leetcode.com/problems/convert-binary-number-in-a-linked-list-to-integer/)"
      ],
      "metadata": {
        "id": "iXppruRLSHIx"
      }
    },
    {
      "cell_type": "code",
      "source": [
        "# Definition for singly-linked list.\n",
        "# class ListNode:\n",
        "#     def __init__(self, val=0, next=None):\n",
        "#         self.val = val\n",
        "#         self.next = next\n",
        "class Solution:\n",
        "    def getDecimalValue(self, head: ListNode) -> int:\n",
        "        temp = 0\n",
        "        it = 0\n",
        "        h = head\n",
        "        while h:\n",
        "            it +=1\n",
        "            h = h.next\n",
        "        it -=1\n",
        "        while head:\n",
        "            temp+=head.val*(2**it)\n",
        "            it-=1\n",
        "\n",
        "            head = head.next\n",
        "\n",
        "        return temp"
      ],
      "metadata": {
        "id": "dN31DqiZSWtp"
      },
      "execution_count": null,
      "outputs": []
    },
    {
      "cell_type": "markdown",
      "source": [
        "[Merge Nodes in Between Zeros](https://leetcode.com/problems/merge-nodes-in-between-zeros/)"
      ],
      "metadata": {
        "id": "bdZ2WwKsVyep"
      }
    },
    {
      "cell_type": "code",
      "source": [
        "# Definition for singly-linked list.\n",
        "# class ListNode:\n",
        "#     def __init__(self, val=0, next=None):\n",
        "#         self.val = val\n",
        "#         self.next = next\n",
        "class Solution:\n",
        "    def mergeNodes(self, head: Optional[ListNode]) -> Optional[ListNode]:\n",
        "        temp = head\n",
        "        while temp:\n",
        "            if not temp.next.next:\n",
        "                temp.next = None\n",
        "                break\n",
        "            if temp.next.val!=0:\n",
        "                temp.val+=temp.next.val\n",
        "                temp.next = temp.next.next\n",
        "            else:\n",
        "                temp.next = temp.next.next\n",
        "                temp =  temp.next\n",
        "        return head"
      ],
      "metadata": {
        "id": "YjOOzbS3Vw6s"
      },
      "execution_count": null,
      "outputs": []
    },
    {
      "cell_type": "markdown",
      "source": [
        "[Middle of the Linked List](https://leetcode.com/problems/middle-of-the-linked-list/)"
      ],
      "metadata": {
        "id": "UsQzPZnFYh_s"
      }
    },
    {
      "cell_type": "code",
      "source": [
        "# Definition for singly-linked list.\n",
        "# class ListNode:\n",
        "#     def __init__(self, val=0, next=None):\n",
        "#         self.val = val\n",
        "#         self.next = next\n",
        "class Solution:\n",
        "    def middleNode(self, head: Optional[ListNode]) -> Optional[ListNode]:\n",
        "        if not head.next:\n",
        "            return head\n",
        "        current = head\n",
        "        fast = head\n",
        "        while fast and fast.next:\n",
        "            current = current.next\n",
        "            fast = fast.next.next\n",
        "        return current"
      ],
      "metadata": {
        "id": "8cpIwgjBYtZm"
      },
      "execution_count": null,
      "outputs": []
    },
    {
      "cell_type": "markdown",
      "source": [
        "[ Intersection of Two Linked Lists](https://leetcode.com/problems/intersection-of-two-linked-lists/)"
      ],
      "metadata": {
        "id": "LT0hhYxYYz_g"
      }
    },
    {
      "cell_type": "code",
      "source": [
        "# Definition for singly-linked list.\n",
        "# class ListNode:\n",
        "#     def __init__(self, x):\n",
        "#         self.val = x\n",
        "#         self.next = None\n",
        "\n",
        "class Solution:\n",
        "    def getIntersectionNode(self, headA: ListNode, headB: ListNode) -> Optional[ListNode]:\n",
        "        listA = headA\n",
        "        listB = headB\n",
        "        result = None\n",
        "        while listA:\n",
        "            listB = headB\n",
        "            while listB:\n",
        "                if id(listA)== id(listB):\n",
        "                    result = listB\n",
        "                    break\n",
        "                else:\n",
        "                    listB = listB.next\n",
        "\n",
        "            if id(listA)== id(listB):\n",
        "                    result = listB\n",
        "                    break\n",
        "            listA = listA.next\n",
        "        return result"
      ],
      "metadata": {
        "id": "qlmuBPvPYxik"
      },
      "execution_count": null,
      "outputs": []
    },
    {
      "cell_type": "markdown",
      "source": [
        "[ntersection of Two Linked Lists](https://leetcode.com/problems/intersection-of-two-linked-lists/)"
      ],
      "metadata": {
        "id": "U1RMd9RpzgHP"
      }
    },
    {
      "cell_type": "code",
      "source": [
        "# Definition for singly-linked list.\n",
        "# class ListNode:\n",
        "#     def __init__(self, x):\n",
        "#         self.val = x\n",
        "#         self.next = None\n",
        "\n",
        "class Solution:\n",
        "    def getIntersectionNode(self, headA: ListNode, headB: ListNode) -> Optional[ListNode]:\n",
        "        a = headA\n",
        "        b = headB\n",
        "        la, lb = 0, 0\n",
        "\n",
        "        while a and b:\n",
        "            a = a.next\n",
        "            b = b.next\n",
        "        while a:\n",
        "            la+=1\n",
        "            a = a.next\n",
        "        while b:\n",
        "            lb +=1\n",
        "            b = b.next\n",
        "        a, b = headA, headB\n",
        "        if la:\n",
        "            for skip in range(la):\n",
        "                a = a.next\n",
        "        else:\n",
        "            for skip in range(lb):\n",
        "                b = b.next\n",
        "       \n",
        "        while a and a!=b:\n",
        "            a = a.next\n",
        "            b = b.next\n",
        "     \n",
        "        return a"
      ],
      "metadata": {
        "id": "AkxItOxMzv8Z"
      },
      "execution_count": null,
      "outputs": []
    },
    {
      "cell_type": "markdown",
      "source": [
        "[Remove Linked List Elements](https://leetcode.com/problems/remove-linked-list-elements/)"
      ],
      "metadata": {
        "id": "uG6iNVv9zwlt"
      }
    },
    {
      "cell_type": "code",
      "source": [
        "# Definition for singly-linked list.\n",
        "# class ListNode:\n",
        "#     def __init__(self, val=0, next=None):\n",
        "#         self.val = val\n",
        "#         self.next = next\n",
        "class Solution:\n",
        "    def removeElements(self, head: Optional[ListNode], val: int) -> Optional[ListNode]:\n",
        "        if not head:\n",
        "            return head\n",
        "        \n",
        "        while head and head.val==val:\n",
        "            head = head.next\n",
        "       \n",
        "        temp = head\n",
        "        while temp:\n",
        "            while temp.next and temp.next.val==val:\n",
        "                temp.next = temp.next.next\n",
        "            temp = temp.next\n",
        "        \n",
        "        return head"
      ],
      "metadata": {
        "id": "UtnhxQP40Fyc"
      },
      "execution_count": null,
      "outputs": []
    },
    {
      "cell_type": "markdown",
      "source": [
        "[Palindrome Linked List](https://leetcode.com/problems/palindrome-linked-list/)"
      ],
      "metadata": {
        "id": "1QDMZA1V9B8L"
      }
    },
    {
      "cell_type": "code",
      "source": [
        "# Definition for singly-linked list.\n",
        "# class ListNode:\n",
        "#     def __init__(self, val=0, next=None):\n",
        "#         self.val = val\n",
        "#         self.next = next\n",
        "class Solution:\n",
        "    def isPalindrome(self, head: Optional[ListNode]) -> bool:\n",
        "\n",
        "        if not head:\n",
        "            return True\n",
        "        fast, slow = head.next, head\n",
        "        while fast and fast.next:\n",
        "            slow = slow.next\n",
        "            fast = fast.next.next\n",
        "        prev = None\n",
        "\n",
        "        while slow:\n",
        "            nxt = slow.next\n",
        "            slow.next = prev\n",
        "            prev = slow\n",
        "            slow = nxt\n",
        "        \n",
        "        while prev and head:\n",
        "            if prev.val!=head.val:\n",
        "                return False\n",
        "            prev = prev.next\n",
        "            head = head.next\n",
        "        return True"
      ],
      "metadata": {
        "id": "TEENAmv49PYZ"
      },
      "execution_count": null,
      "outputs": []
    },
    {
      "cell_type": "markdown",
      "source": [
        "# Два указателя"
      ],
      "metadata": {
        "id": "CccS3_HN_kat"
      }
    },
    {
      "cell_type": "markdown",
      "source": [
        "[ Intersection of Two Arrays](https://leetcode.com/problems/intersection-of-two-arrays/)"
      ],
      "metadata": {
        "id": "rlX5N9aH_oYd"
      }
    },
    {
      "cell_type": "code",
      "source": [
        "class Solution:\n",
        "    def intersection(self, n1: List[int], n2: List[int]) -> List[int]:\n",
        "        set1, set2 = set(n1), set(n2)\n",
        "        return list(set1 & set2)"
      ],
      "metadata": {
        "id": "lrBJFD-sfi7w"
      },
      "execution_count": null,
      "outputs": []
    },
    {
      "cell_type": "markdown",
      "source": [
        "[Remove Element](https://leetcode.com/problems/remove-element/)"
      ],
      "metadata": {
        "id": "tK4xgCx6IrXS"
      }
    },
    {
      "cell_type": "code",
      "source": [
        "class Solution:\n",
        "    def removeElement(self, nums: List[int], val: int) -> int:\n",
        "        if not nums or val not in nums:\n",
        "            return len(nums)\n",
        "        n = -1\n",
        "        d = -1\n",
        "        for i in range(len(nums)):\n",
        "            print(nums)\n",
        "            if nums[i]==val and n<0:\n",
        "                n = i\n",
        "                if d<0:\n",
        "                    continue\n",
        "            elif nums[i]!=val and d<0:\n",
        "                d = i\n",
        "                if n<0:\n",
        "                    continue\n",
        "            elif n<0 or d<0:\n",
        "                continue\n",
        "        \n",
        "            if n<d:\n",
        "                nums[d],  nums[n] =  nums[n],  nums[d]\n",
        "                n, d = n+1, n\n",
        "                \n",
        "\n",
        "            if nums[i]!=val:\n",
        "                nums[i], nums[n] = nums[n], nums[i] \n",
        "                n+=1\n",
        "                d+=1\n",
        "        count = 0\n",
        "        for i in range(len(nums)):\n",
        "            if nums[i]==val:\n",
        "                break\n",
        "            count+=1   \n",
        "        return count"
      ],
      "metadata": {
        "id": "f3djvAJ3IryH"
      },
      "execution_count": null,
      "outputs": []
    },
    {
      "cell_type": "code",
      "source": [
        "class Solution:\n",
        "    def removeElement(self, nums: List[int], val: int) -> int:\n",
        "        i = 0\n",
        "        while i<len(nums):\n",
        "            if nums[i]==val:\n",
        "                nums.pop(i)\n",
        "            else:\n",
        "                i+=1\n",
        "        return len(nums)"
      ],
      "metadata": {
        "id": "1eVqQBH2kwQE"
      },
      "execution_count": null,
      "outputs": []
    }
  ]
}