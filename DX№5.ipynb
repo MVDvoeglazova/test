{
  "nbformat": 4,
  "nbformat_minor": 0,
  "metadata": {
    "colab": {
      "provenance": []
    },
    "kernelspec": {
      "name": "python3",
      "display_name": "Python 3"
    },
    "language_info": {
      "name": "python"
    }
  },
  "cells": [
    {
      "cell_type": "code",
      "execution_count": null,
      "metadata": {
        "id": "EJmraGH6nqt1"
      },
      "outputs": [],
      "source": []
    },
    {
      "cell_type": "markdown",
      "source": [
        "### 3.1. Строки, кортежи, списки\n",
        "\n"
      ],
      "metadata": {
        "id": "qeAHLrA9nuXY"
      }
    },
    {
      "cell_type": "markdown",
      "source": [
        "[Азбука](https://new.contest.yandex.ru/41237/problem?id=149944/2022_10_13/Rqerjkkkal)"
      ],
      "metadata": {
        "id": "D6iHmd8Snzqi"
      }
    },
    {
      "cell_type": "code",
      "source": [
        "n = int(input())\n",
        "flag = 'YES'\n",
        "for i in range(n):\n",
        "    s = input()\n",
        "    if s[0].lower() not in 'абв':\n",
        "        flag = 'NO'\n",
        "        break\n",
        "print(flag)\n"
      ],
      "metadata": {
        "id": "u3L0TtVQnybJ"
      },
      "execution_count": null,
      "outputs": []
    },
    {
      "cell_type": "markdown",
      "source": [
        "https://new.contest.yandex.ru/41237/problem?id=149944/2022_10_13/jDxpE8Yh7j"
      ],
      "metadata": {
        "id": "GewJRpA8otwk"
      }
    },
    {
      "cell_type": "code",
      "source": [
        "for i in input():\n",
        "    print(i)"
      ],
      "metadata": {
        "id": "K6-JhdTTouMk"
      },
      "execution_count": null,
      "outputs": []
    },
    {
      "cell_type": "markdown",
      "source": [
        "https://new.contest.yandex.ru/41237/problem?id=149944/2022_10_13/qCXhJgNHI9"
      ],
      "metadata": {
        "id": "b7hnmxw_o6AX"
      }
    },
    {
      "cell_type": "code",
      "source": [
        "L, N = int(input()), int(input())\n",
        "result = []\n",
        "for i in range(N):\n",
        "    result.append(input())\n",
        "    if result[i] != result[i][:L]:\n",
        "        result[i] = result[i][:L - 3] + '...'\n",
        "    \n",
        "for i in range(N):\n",
        "    print(result[i]) "
      ],
      "metadata": {
        "id": "NxycakIwo6gE"
      },
      "execution_count": null,
      "outputs": []
    },
    {
      "cell_type": "markdown",
      "source": [
        "https://new.contest.yandex.ru/41237/problem?id=149944/2022_10_13/OgIDCS3i0M"
      ],
      "metadata": {
        "id": "0ffBgzJIpssF"
      }
    },
    {
      "cell_type": "code",
      "source": [
        "string = input()\n",
        "list_str = []\n",
        "\n",
        "while string != '':\n",
        "    list_str.append(string)\n",
        "    string = input()\n",
        "\n",
        "for i in list_str:\n",
        "    if i.endswith('@@@') is not True:\n",
        "        if i.startswith('##') is True:\n",
        "            i = i[2:]\n",
        "            print(i)\n",
        "        else:\n",
        "            print(i)"
      ],
      "metadata": {
        "id": "2Ty-8ulOptXp"
      },
      "execution_count": null,
      "outputs": []
    },
    {
      "cell_type": "markdown",
      "source": [
        "https://new.contest.yandex.ru/41237/problem?id=149944/2022_10_13/ov6kYV0VMp"
      ],
      "metadata": {
        "id": "Z-FmuHjLuOi-"
      }
    },
    {
      "cell_type": "code",
      "source": [
        "string = input()\n",
        "if string == string[::-1]:\n",
        "    print('YES')\n",
        "else:\n",
        "    print('NO')"
      ],
      "metadata": {
        "id": "A3dnn77tucp3"
      },
      "execution_count": null,
      "outputs": []
    },
    {
      "cell_type": "markdown",
      "source": [
        "https://new.contest.yandex.ru/41237/problem?id=149944/2022_10_13/a4hvWnzaSa"
      ],
      "metadata": {
        "id": "h97OEEVVvWC4"
      }
    },
    {
      "cell_type": "code",
      "source": [
        "N = int(input())\n",
        "count = 0\n",
        "for i in range(N):\n",
        "    count += input().count('зайка')\n",
        "    \n",
        "print(count)"
      ],
      "metadata": {
        "id": "5wr3hA8SvWLQ"
      },
      "execution_count": null,
      "outputs": []
    },
    {
      "cell_type": "markdown",
      "source": [
        "https://new.contest.yandex.ru/41237/problem?id=149944/2022_10_13/3EdEEqxi5v"
      ],
      "metadata": {
        "id": "C9EXUbhNwbfT"
      }
    },
    {
      "cell_type": "code",
      "source": [
        "sum_a_and_b = input().split()\n",
        "print(int(sum_a_and_b[0]) + int(sum_a_and_b[1]))"
      ],
      "metadata": {
        "id": "lSwykikzwbmL"
      },
      "execution_count": null,
      "outputs": []
    },
    {
      "cell_type": "markdown",
      "source": [
        "https://new.contest.yandex.ru/41237/problem?id=149944/2022_10_13/vpdTAfe36G"
      ],
      "metadata": {
        "id": "jY__WUioxOTy"
      }
    },
    {
      "cell_type": "code",
      "source": [
        "for i in range(int(input())):\n",
        "    string = input()\n",
        "    index = string.find('зайка')\n",
        "    if index == -1:\n",
        "        print('Заек нет =(')\n",
        "    else:\n",
        "        print(index + 1)"
      ],
      "metadata": {
        "id": "pK7sZOmtxOc9"
      },
      "execution_count": null,
      "outputs": []
    },
    {
      "cell_type": "markdown",
      "source": [
        "https://new.contest.yandex.ru/41237/problem?id=149944/2022_10_13/xN8A0sVDQd"
      ],
      "metadata": {
        "id": "IAK_OvHACuvD"
      }
    },
    {
      "cell_type": "code",
      "source": [
        "string = input()\n",
        "while string != '':\n",
        "    if string[0] != '#':\n",
        "        if string.find('#') != -1:\n",
        "            string = string[:string.find('#')]\n",
        "        print(string)\n",
        "    string = input()\n",
        "    "
      ],
      "metadata": {
        "id": "x6blx1ZYCu7M"
      },
      "execution_count": null,
      "outputs": []
    },
    {
      "cell_type": "markdown",
      "source": [
        "https://new.contest.yandex.ru/41237/problem?id=149944/2022_10_13/fCcQ3iQzrD"
      ],
      "metadata": {
        "id": "Zj-ud9BeE2f6"
      }
    },
    {
      "cell_type": "code",
      "source": [
        "result = ''\n",
        "string = ''\n",
        "while True:\n",
        "    string = input()\n",
        "    if string.lower() != 'финиш':\n",
        "        result += string\n",
        "    else:\n",
        "        break\n",
        "\n",
        "max_count = 0\n",
        "result = result.lower()\n",
        "output = 'я'\n",
        "for i in result:\n",
        "    if max_count <= result.count(i):\n",
        "        max_count = result.count(i)\n",
        "\n",
        "        output = min(output, i)\n",
        "\n",
        "print(output)"
      ],
      "metadata": {
        "id": "3EILkN95E2si"
      },
      "execution_count": null,
      "outputs": []
    },
    {
      "cell_type": "markdown",
      "source": [
        "### 3.2. Множества, словари"
      ],
      "metadata": {
        "id": "Na7AmC81NmyV"
      }
    },
    {
      "cell_type": "markdown",
      "source": [
        "https://new.contest.yandex.ru/41238/problem?id=149944/2022_10_13/rWSOXXUpgK"
      ],
      "metadata": {
        "id": "tDg8hTu-OWAV"
      }
    },
    {
      "cell_type": "code",
      "source": [
        "print(*set(input()), sep='')"
      ],
      "metadata": {
        "id": "SoV8GWBcNm7F"
      },
      "execution_count": null,
      "outputs": []
    },
    {
      "cell_type": "markdown",
      "source": [
        "https://new.contest.yandex.ru/41238/problem?id=149944/2022_10_13/O36RTF4IwF"
      ],
      "metadata": {
        "id": "VvJcoZc7PUFz"
      }
    },
    {
      "cell_type": "code",
      "source": [
        "print(*(set(input()) & set(input())), sep='')"
      ],
      "metadata": {
        "id": "FFxd_mOcPUOb"
      },
      "execution_count": null,
      "outputs": []
    },
    {
      "cell_type": "markdown",
      "source": [
        "https://new.contest.yandex.ru/41238/problem?id=149944/2022_10_13/JnnhhAewGx"
      ],
      "metadata": {
        "id": "GPMxOvNmQIyS"
      }
    },
    {
      "cell_type": "code",
      "source": [
        "set_object = set()\n",
        "for i in range(int(input())):\n",
        "    temp = input().split()\n",
        "    for it in temp:\n",
        "        set_object.add(it)\n",
        "print(*set_object, sep='\\n')\n"
      ],
      "metadata": {
        "id": "g5hRsb_nQJIw"
      },
      "execution_count": null,
      "outputs": []
    },
    {
      "cell_type": "markdown",
      "source": [
        "https://new.contest.yandex.ru/41238/problem?id=149944/2022_10_13/AZM9pHPP61"
      ],
      "metadata": {
        "id": "5_vLorWzSPdI"
      }
    },
    {
      "cell_type": "code",
      "source": [
        "N, M = int(input()), int(input())\n",
        "set_N, set_M = set(), set()\n",
        "\n",
        "for it in range(N):\n",
        "    set_N.add(input())\n",
        "\n",
        "for it in range(M):\n",
        "    set_M.add(input())\n",
        "\n",
        "print(len(set_N & set_M) if set_N & set_M else 'Таких нет')"
      ],
      "metadata": {
        "id": "oLjOwbYDSPmU"
      },
      "execution_count": null,
      "outputs": []
    },
    {
      "cell_type": "markdown",
      "source": [
        "https://new.contest.yandex.ru/41238/problem?id=149944/2022_10_13/DL6KYE4eaB"
      ],
      "metadata": {
        "id": "96vtvB7sU60T"
      }
    },
    {
      "cell_type": "code",
      "source": [
        "N, M = int(input()), int(input())\n",
        "set_N, set_M = set(), set()\n",
        "\n",
        "for it in range(N):\n",
        "    set_N.add(input())\n",
        "\n",
        "for it in range(M):\n",
        "    set_M.add(input())\n",
        "\n",
        "print(len(set_N ^ set_M) if set_N ^ set_M else 'Таких нет')"
      ],
      "metadata": {
        "id": "7cCOwr2KU6-S"
      },
      "execution_count": null,
      "outputs": []
    },
    {
      "cell_type": "markdown",
      "source": [
        "https://new.contest.yandex.ru/41238/problem?id=149944/2022_10_13/gmpbwZnMbN"
      ],
      "metadata": {
        "id": "dPfo37ysV2QK"
      }
    },
    {
      "cell_type": "code",
      "source": [
        "set_MN = set()\n",
        "\n",
        "for i in range(int(input()) + int(input())):\n",
        "    string = input()\n",
        "    if string in set_MN:\n",
        "        set_MN.remove(string)\n",
        "    else:\n",
        "        set_MN.add(string)\n",
        "    \n",
        "if len(set_MN) == 0:\n",
        "    print('Таких нет')\n",
        "else:\n",
        "    for ch in sorted(set_MN):\n",
        "        print(ch)"
      ],
      "metadata": {
        "id": "GZSeZFIvV2ZN"
      },
      "execution_count": null,
      "outputs": []
    },
    {
      "cell_type": "markdown",
      "source": [
        "https://new.contest.yandex.ru/41238/problem?id=149944/2022_10_13/H5d92R3S0D"
      ],
      "metadata": {
        "id": "FlV29BP5Yc4P"
      }
    },
    {
      "cell_type": "code",
      "source": [
        "my_dict = {'A': '.-', 'B': '-...', 'C': '-.-.',\n",
        "           'D': '-..', 'E': '.', 'F': '..-.',\n",
        "           'G': '--.', 'H': '....', 'I': '..',\n",
        "           'J': '.---', 'K': '-.-', 'L': '.-..',\n",
        "           'M': '--', 'N': '-.', 'O': '---',\n",
        "           'P': '.--.', 'Q': '--.-', 'R': '.-.',\n",
        "           'S': '...', 'T': '-', 'U': '..-',\n",
        "           'V': '...-', 'W': '.--', 'X': '-..-',\n",
        "           'Y': '-.--', 'Z': '--..',\n",
        "           '0': '-----', '1': '.----', '2': '..---',\n",
        "           '3': '...--', '4': '....-', '5': '.....',\n",
        "           '6': '-....', '7': '--...', '8': '---..',\n",
        "           '9': '----.'}\n",
        "for word in input().split():\n",
        "    string = ''\n",
        "    for it in word:\n",
        "        string += my_dict[it.upper()] + ' '\n",
        "    print(string.strip())\n"
      ],
      "metadata": {
        "id": "VYxzFcLtYdA-"
      },
      "execution_count": null,
      "outputs": []
    },
    {
      "cell_type": "markdown",
      "source": [
        "https://new.contest.yandex.ru/41238/problem?id=149944/2022_10_13/Tvk8oartND"
      ],
      "metadata": {
        "id": "WfeG_30iaySU"
      }
    },
    {
      "cell_type": "code",
      "source": [
        "list_object = []\n",
        "my_dict = dict()\n",
        "s = input()\n",
        "\n",
        "while s != '':\n",
        "    list_object += s.split(' ')\n",
        "    s = input()\n",
        "my_dict = dict.fromkeys(list_object)\n",
        "sett = list(my_dict)\n",
        "for i in range(len(sett)):\n",
        "    qty = list_object.count(sett[i])\n",
        "    my_dict[sett[i]] = qty\n",
        "for k, v in my_dict.items():\n",
        "    print(k, v)"
      ],
      "metadata": {
        "id": "RWbJGEe5aycM"
      },
      "execution_count": null,
      "outputs": []
    },
    {
      "cell_type": "markdown",
      "source": [
        "### Списочные выражения"
      ],
      "metadata": {
        "id": "t_M4itGAcE5a"
      }
    },
    {
      "cell_type": "markdown",
      "source": [
        "https://new.contest.yandex.ru/41239/problem?id=149944/2022_10_21/cxXOJQMv0Y"
      ],
      "metadata": {
        "id": "QPayLyI-dvOs"
      }
    },
    {
      "cell_type": "code",
      "source": [
        "[i**2 for i in range(a, b + 1)]"
      ],
      "metadata": {
        "id": "r2Rd3cfOdv-0"
      },
      "execution_count": null,
      "outputs": []
    },
    {
      "cell_type": "markdown",
      "source": [
        "https://new.contest.yandex.ru/41239/problem?id=149944/2022_10_21/dQCMDrRj3q"
      ],
      "metadata": {
        "id": "1848O4vleeDK"
      }
    },
    {
      "cell_type": "code",
      "source": [
        "[[x * i for x in range(1, n + 1)] for i in range(1, n + 1)]"
      ],
      "metadata": {
        "id": "EE8gSuyqeeLO"
      },
      "execution_count": null,
      "outputs": []
    },
    {
      "cell_type": "markdown",
      "source": [
        "https://new.contest.yandex.ru/41239/problem?id=149944/2022_10_21/Wmu5XoFD8L"
      ],
      "metadata": {
        "id": "-DMFQcMtgZ9F"
      }
    },
    {
      "cell_type": "code",
      "source": [
        "[len(i) for i in sentence.split()]"
      ],
      "metadata": {
        "id": "KaxsSMRFgaE0"
      },
      "execution_count": null,
      "outputs": []
    },
    {
      "cell_type": "markdown",
      "source": [
        "https://new.contest.yandex.ru/41239/problem?id=149944/2022_10_21/cpVnlfo6ju"
      ],
      "metadata": {
        "id": "znQ0AxFLgmme"
      }
    },
    {
      "cell_type": "code",
      "source": [
        "{i for i in numbers if i % 2 != 0}"
      ],
      "metadata": {
        "id": "brWYsDmJhK6D"
      },
      "execution_count": null,
      "outputs": []
    },
    {
      "cell_type": "markdown",
      "source": [
        "https://new.contest.yandex.ru/41239/problem?id=149944/2022_10_21/f6sGyRWpGx"
      ],
      "metadata": {
        "id": "-kMw-lIGg6bf"
      }
    },
    {
      "cell_type": "code",
      "source": [
        "{i for i in numbers if int(i ** 0.5) ** 2 == i}"
      ],
      "metadata": {
        "id": "1eR9ifilg6mD"
      },
      "execution_count": null,
      "outputs": []
    },
    {
      "cell_type": "markdown",
      "source": [
        "https://new.contest.yandex.ru/41239/problem?id=149944/2022_10_21/dmN3UypHop"
      ],
      "metadata": {
        "id": "2eDP1ci3g7Gl"
      }
    },
    {
      "cell_type": "code",
      "source": [
        "{i: list(text.lower()).count(i) for i in text.lower() if i.isalnum()}"
      ],
      "metadata": {
        "id": "Bc2cGXn6g8Er"
      },
      "execution_count": null,
      "outputs": []
    },
    {
      "cell_type": "markdown",
      "source": [
        "https://new.contest.yandex.ru/41239/problem?id=149944/2022_10_21/i3ppbkQLTQ"
      ],
      "metadata": {
        "id": "3Im-DjH2g8Mr"
      }
    },
    {
      "cell_type": "code",
      "source": [
        "{x: list(i for i in range(1, x + 1) if x % i == 0) for x in numbers}"
      ],
      "metadata": {
        "id": "IQd7drg5g5Ir"
      },
      "execution_count": null,
      "outputs": []
    },
    {
      "cell_type": "markdown",
      "source": [
        "https://new.contest.yandex.ru/41239/problem?id=149944/2022_10_21/7V6IIL9UZh"
      ],
      "metadata": {
        "id": "Zi0x3oWlh-fG"
      }
    },
    {
      "cell_type": "code",
      "source": [
        "''.join(x[0].upper() for x in string.split())"
      ],
      "metadata": {
        "id": "D4B-sPyRh-nm"
      },
      "execution_count": null,
      "outputs": []
    },
    {
      "cell_type": "markdown",
      "source": [
        "https://new.contest.yandex.ru/41239/problem?id=149944/2022_10_21/hhsmfRisV6"
      ],
      "metadata": {
        "id": "rc3VPQGCh-6t"
      }
    },
    {
      "cell_type": "code",
      "source": [
        "' - '.join(str(x) for x in sorted(set(numbers)))"
      ],
      "metadata": {
        "id": "iNYrxOlqh_E_"
      },
      "execution_count": null,
      "outputs": []
    },
    {
      "cell_type": "markdown",
      "source": [
        "https://new.contest.yandex.ru/41239/problem?id=149944/2022_10_21/QSSwcIbJMK"
      ],
      "metadata": {
        "id": "OZ5ZKb1qiVpW"
      }
    },
    {
      "cell_type": "code",
      "source": [
        "''.join(str(x[0]) * x[1] for x in rle)"
      ],
      "metadata": {
        "id": "jebbyM0BiUnf"
      },
      "execution_count": null,
      "outputs": []
    }
  ]
}